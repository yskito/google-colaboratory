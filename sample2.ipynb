{
  "nbformat": 4,
  "nbformat_minor": 0,
  "metadata": {
    "colab": {
      "name": "sample2.ipynb",
      "provenance": [],
      "collapsed_sections": [],
      "include_colab_link": true
    },
    "kernelspec": {
      "name": "ir",
      "display_name": "R"
    }
  },
  "cells": [
    {
      "cell_type": "markdown",
      "metadata": {
        "id": "view-in-github",
        "colab_type": "text"
      },
      "source": [
        "<a href=\"https://colab.research.google.com/github/yskito/google-colaboratory/blob/master/sample2.ipynb\" target=\"_parent\"><img src=\"https://colab.research.google.com/assets/colab-badge.svg\" alt=\"Open In Colab\"/></a>"
      ]
    },
    {
      "cell_type": "code",
      "metadata": {
        "id": "MGSsF2SilCSw",
        "colab_type": "code",
        "colab": {
          "base_uri": "https://localhost:8080/",
          "height": 34
        },
        "outputId": "9b83fb79-9ce8-46ec-e8f4-a6c48a27abe4"
      },
      "source": [
        "getwd();\n",
        "#dir.create(\"sample1\");\n",
        "\n",
        "#setwd(\"./sample1\")\n",
        "#getwd()"
      ],
      "execution_count": null,
      "outputs": [
        {
          "output_type": "display_data",
          "data": {
            "text/plain": [
              "[1] \"/content/sample1\""
            ],
            "text/latex": "'/content/sample1'",
            "text/markdown": "'/content/sample1'",
            "text/html": [
              "'/content/sample1'"
            ]
          },
          "metadata": {
            "tags": []
          }
        }
      ]
    },
    {
      "cell_type": "code",
      "metadata": {
        "id": "NaS1dEDgvF0r",
        "colab_type": "code",
        "colab": {
          "base_uri": "https://localhost:8080/",
          "height": 120
        },
        "outputId": "1af54506-52b6-4b78-b5d9-c646c633dbbb"
      },
      "source": [
        "sample = matrix(10,2,5); sample = as.data.frame(sample); sample"
      ],
      "execution_count": null,
      "outputs": [
        {
          "output_type": "display_data",
          "data": {
            "text/plain": [
              "  V1 V2 V3 V4 V5\n",
              "1 10 10 10 10 10\n",
              "2 10 10 10 10 10"
            ],
            "text/latex": "A data.frame: 2 × 5\n\\begin{tabular}{lllll}\n V1 & V2 & V3 & V4 & V5\\\\\n <dbl> & <dbl> & <dbl> & <dbl> & <dbl>\\\\\n\\hline\n\t 10 & 10 & 10 & 10 & 10\\\\\n\t 10 & 10 & 10 & 10 & 10\\\\\n\\end{tabular}\n",
            "text/markdown": "\nA data.frame: 2 × 5\n\n| V1 &lt;dbl&gt; | V2 &lt;dbl&gt; | V3 &lt;dbl&gt; | V4 &lt;dbl&gt; | V5 &lt;dbl&gt; |\n|---|---|---|---|---|\n| 10 | 10 | 10 | 10 | 10 |\n| 10 | 10 | 10 | 10 | 10 |\n\n",
            "text/html": [
              "<table>\n",
              "<caption>A data.frame: 2 × 5</caption>\n",
              "<thead>\n",
              "\t<tr><th scope=col>V1</th><th scope=col>V2</th><th scope=col>V3</th><th scope=col>V4</th><th scope=col>V5</th></tr>\n",
              "\t<tr><th scope=col>&lt;dbl&gt;</th><th scope=col>&lt;dbl&gt;</th><th scope=col>&lt;dbl&gt;</th><th scope=col>&lt;dbl&gt;</th><th scope=col>&lt;dbl&gt;</th></tr>\n",
              "</thead>\n",
              "<tbody>\n",
              "\t<tr><td>10</td><td>10</td><td>10</td><td>10</td><td>10</td></tr>\n",
              "\t<tr><td>10</td><td>10</td><td>10</td><td>10</td><td>10</td></tr>\n",
              "</tbody>\n",
              "</table>\n"
            ]
          },
          "metadata": {
            "tags": []
          }
        }
      ]
    },
    {
      "cell_type": "code",
      "metadata": {
        "id": "pYYAzdyNBW9u",
        "colab_type": "code",
        "colab": {}
      },
      "source": [
        ""
      ],
      "execution_count": null,
      "outputs": []
    },
    {
      "cell_type": "code",
      "metadata": {
        "id": "lKepkB5yvFrC",
        "colab_type": "code",
        "colab": {}
      },
      "source": [
        "write.csv(sample, \"sample11111.csv\")"
      ],
      "execution_count": null,
      "outputs": []
    },
    {
      "cell_type": "code",
      "metadata": {
        "id": "5F_RlsV6EKGL",
        "colab_type": "code",
        "colab": {}
      },
      "source": [
        ""
      ],
      "execution_count": null,
      "outputs": []
    }
  ]
}