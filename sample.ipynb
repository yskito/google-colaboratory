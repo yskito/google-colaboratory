{
  "nbformat": 4,
  "nbformat_minor": 0,
  "metadata": {
    "colab": {
      "name": "sample.ipynb",
      "provenance": [],
      "include_colab_link": true
    },
    "kernelspec": {
      "name": "ir",
      "display_name": "R"
    }
  },
  "cells": [
    {
      "cell_type": "markdown",
      "metadata": {
        "id": "view-in-github",
        "colab_type": "text"
      },
      "source": [
        "<a href=\"https://colab.research.google.com/github/yskito/google-colaboratory/blob/master/sample.ipynb\" target=\"_parent\"><img src=\"https://colab.research.google.com/assets/colab-badge.svg\" alt=\"Open In Colab\"/></a>"
      ]
    },
    {
      "cell_type": "code",
      "metadata": {
        "id": "w8CjWs4Wk5ub",
        "colab_type": "code",
        "colab": {
          "base_uri": "https://localhost:8080/",
          "height": 246
        },
        "outputId": "6f4de6c6-afc0-4546-e9f4-438d356691c5"
      },
      "source": [
        "sample = matrix( 100, 10, 10); sample"
      ],
      "execution_count": null,
      "outputs": [
        {
          "output_type": "display_data",
          "data": {
            "text/plain": [
              "      [,1] [,2] [,3] [,4] [,5] [,6] [,7] [,8] [,9] [,10]\n",
              " [1,] 100  100  100  100  100  100  100  100  100  100  \n",
              " [2,] 100  100  100  100  100  100  100  100  100  100  \n",
              " [3,] 100  100  100  100  100  100  100  100  100  100  \n",
              " [4,] 100  100  100  100  100  100  100  100  100  100  \n",
              " [5,] 100  100  100  100  100  100  100  100  100  100  \n",
              " [6,] 100  100  100  100  100  100  100  100  100  100  \n",
              " [7,] 100  100  100  100  100  100  100  100  100  100  \n",
              " [8,] 100  100  100  100  100  100  100  100  100  100  \n",
              " [9,] 100  100  100  100  100  100  100  100  100  100  \n",
              "[10,] 100  100  100  100  100  100  100  100  100  100  "
            ],
            "text/latex": "A matrix: 10 × 10 of type dbl\n\\begin{tabular}{llllllllll}\n\t 100 & 100 & 100 & 100 & 100 & 100 & 100 & 100 & 100 & 100\\\\\n\t 100 & 100 & 100 & 100 & 100 & 100 & 100 & 100 & 100 & 100\\\\\n\t 100 & 100 & 100 & 100 & 100 & 100 & 100 & 100 & 100 & 100\\\\\n\t 100 & 100 & 100 & 100 & 100 & 100 & 100 & 100 & 100 & 100\\\\\n\t 100 & 100 & 100 & 100 & 100 & 100 & 100 & 100 & 100 & 100\\\\\n\t 100 & 100 & 100 & 100 & 100 & 100 & 100 & 100 & 100 & 100\\\\\n\t 100 & 100 & 100 & 100 & 100 & 100 & 100 & 100 & 100 & 100\\\\\n\t 100 & 100 & 100 & 100 & 100 & 100 & 100 & 100 & 100 & 100\\\\\n\t 100 & 100 & 100 & 100 & 100 & 100 & 100 & 100 & 100 & 100\\\\\n\t 100 & 100 & 100 & 100 & 100 & 100 & 100 & 100 & 100 & 100\\\\\n\\end{tabular}\n",
            "text/markdown": "\nA matrix: 10 × 10 of type dbl\n\n| 100 | 100 | 100 | 100 | 100 | 100 | 100 | 100 | 100 | 100 |\n| 100 | 100 | 100 | 100 | 100 | 100 | 100 | 100 | 100 | 100 |\n| 100 | 100 | 100 | 100 | 100 | 100 | 100 | 100 | 100 | 100 |\n| 100 | 100 | 100 | 100 | 100 | 100 | 100 | 100 | 100 | 100 |\n| 100 | 100 | 100 | 100 | 100 | 100 | 100 | 100 | 100 | 100 |\n| 100 | 100 | 100 | 100 | 100 | 100 | 100 | 100 | 100 | 100 |\n| 100 | 100 | 100 | 100 | 100 | 100 | 100 | 100 | 100 | 100 |\n| 100 | 100 | 100 | 100 | 100 | 100 | 100 | 100 | 100 | 100 |\n| 100 | 100 | 100 | 100 | 100 | 100 | 100 | 100 | 100 | 100 |\n| 100 | 100 | 100 | 100 | 100 | 100 | 100 | 100 | 100 | 100 |\n\n",
            "text/html": [
              "<table>\n",
              "<caption>A matrix: 10 × 10 of type dbl</caption>\n",
              "<tbody>\n",
              "\t<tr><td>100</td><td>100</td><td>100</td><td>100</td><td>100</td><td>100</td><td>100</td><td>100</td><td>100</td><td>100</td></tr>\n",
              "\t<tr><td>100</td><td>100</td><td>100</td><td>100</td><td>100</td><td>100</td><td>100</td><td>100</td><td>100</td><td>100</td></tr>\n",
              "\t<tr><td>100</td><td>100</td><td>100</td><td>100</td><td>100</td><td>100</td><td>100</td><td>100</td><td>100</td><td>100</td></tr>\n",
              "\t<tr><td>100</td><td>100</td><td>100</td><td>100</td><td>100</td><td>100</td><td>100</td><td>100</td><td>100</td><td>100</td></tr>\n",
              "\t<tr><td>100</td><td>100</td><td>100</td><td>100</td><td>100</td><td>100</td><td>100</td><td>100</td><td>100</td><td>100</td></tr>\n",
              "\t<tr><td>100</td><td>100</td><td>100</td><td>100</td><td>100</td><td>100</td><td>100</td><td>100</td><td>100</td><td>100</td></tr>\n",
              "\t<tr><td>100</td><td>100</td><td>100</td><td>100</td><td>100</td><td>100</td><td>100</td><td>100</td><td>100</td><td>100</td></tr>\n",
              "\t<tr><td>100</td><td>100</td><td>100</td><td>100</td><td>100</td><td>100</td><td>100</td><td>100</td><td>100</td><td>100</td></tr>\n",
              "\t<tr><td>100</td><td>100</td><td>100</td><td>100</td><td>100</td><td>100</td><td>100</td><td>100</td><td>100</td><td>100</td></tr>\n",
              "\t<tr><td>100</td><td>100</td><td>100</td><td>100</td><td>100</td><td>100</td><td>100</td><td>100</td><td>100</td><td>100</td></tr>\n",
              "</tbody>\n",
              "</table>\n"
            ]
          },
          "metadata": {
            "tags": []
          }
        }
      ]
    },
    {
      "cell_type": "code",
      "metadata": {
        "id": "MGSsF2SilCSw",
        "colab_type": "code",
        "colab": {
          "base_uri": "https://localhost:8080/",
          "height": 34
        },
        "outputId": "aff357e4-06a9-45d3-f6e5-6cceee167cc2"
      },
      "source": [
        "getwd();"
      ],
      "execution_count": null,
      "outputs": [
        {
          "output_type": "display_data",
          "data": {
            "text/plain": [
              "[1] \"/\""
            ],
            "text/latex": "'/'",
            "text/markdown": "'/'",
            "text/html": [
              "'/'"
            ]
          },
          "metadata": {
            "tags": []
          }
        }
      ]
    }
  ]
}