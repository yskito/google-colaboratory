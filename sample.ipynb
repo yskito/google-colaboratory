{
  "nbformat": 4,
  "nbformat_minor": 0,
  "metadata": {
    "colab": {
      "name": "sample.ipynb",
      "provenance": [],
      "include_colab_link": true
    },
    "kernelspec": {
      "name": "ir",
      "display_name": "R"
    }
  },
  "cells": [
    {
      "cell_type": "markdown",
      "metadata": {
        "id": "view-in-github",
        "colab_type": "text"
      },
      "source": [
        "<a href=\"https://colab.research.google.com/github/yskito/google-colaboratory/blob/master/sample.ipynb\" target=\"_parent\"><img src=\"https://colab.research.google.com/assets/colab-badge.svg\" alt=\"Open In Colab\"/></a>"
      ]
    },
    {
      "cell_type": "code",
      "metadata": {
        "id": "w8CjWs4Wk5ub",
        "colab_type": "code",
        "colab": {}
      },
      "source": [
        "sample = matrix( 100, 10, 10); sample"
      ],
      "execution_count": null,
      "outputs": []
    },
    {
      "cell_type": "code",
      "metadata": {
        "id": "MGSsF2SilCSw",
        "colab_type": "code",
        "colab": {}
      },
      "source": [
        "getwd();"
      ],
      "execution_count": null,
      "outputs": []
    }
  ]
}